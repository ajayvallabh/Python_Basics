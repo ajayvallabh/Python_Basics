{
 "cells": [
  {
   "cell_type": "markdown",
   "metadata": {},
   "source": [
    "List and Tuples in python"
   ]
  },
  {
   "cell_type": "markdown",
   "metadata": {},
   "source": [
    "List:  A built in data type that stores set of values\n",
    "\n",
    "It can store elements of different types (integer, float, string, etc.)\n",
    "\n",
    "marks = [87, 64, 33, 95, 76] # marks[0], marks[1]  ..\n",
    "\n",
    "student = [Ajay\", 85, \"Delhi\"]  # student[0], student[1]\n"
   ]
  },
  {
   "cell_type": "code",
   "execution_count": 2,
   "metadata": {},
   "outputs": [
    {
     "name": "stdout",
     "output_type": "stream",
     "text": [
      "[94.4, 87.5, 95.2, 66.4, 45.1]\n",
      "<class 'list'>\n"
     ]
    }
   ],
   "source": [
    "marks =[94.4, 87.5, 95.2, 66.4, 45.1]\n",
    "print(marks)\n",
    "print(type(marks))"
   ]
  },
  {
   "cell_type": "code",
   "execution_count": 3,
   "metadata": {},
   "outputs": [
    {
     "data": {
      "text/plain": [
       "94.4"
      ]
     },
     "execution_count": 3,
     "metadata": {},
     "output_type": "execute_result"
    }
   ],
   "source": [
    "marks[0]"
   ]
  },
  {
   "cell_type": "code",
   "execution_count": 4,
   "metadata": {},
   "outputs": [
    {
     "name": "stdout",
     "output_type": "stream",
     "text": [
      "5\n"
     ]
    }
   ],
   "source": [
    "print(len(marks))"
   ]
  },
  {
   "cell_type": "code",
   "execution_count": null,
   "metadata": {},
   "outputs": [
    {
     "name": "stdout",
     "output_type": "stream",
     "text": [
      "['Ajay', 85, 'Delhi']\n",
      "['Anuj', 85, 'Delhi']\n"
     ]
    }
   ],
   "source": [
    "student = [\"Ajay\", 85, \"Delhi\"]\n",
    "print(student)\n",
    "student[0] = \"Anuj\" # List is mutable (change is possible) in python\n",
    "print(student)"
   ]
  },
  {
   "cell_type": "markdown",
   "metadata": {},
   "source": [
    "List Slicing: Similar to string slicing\n",
    "\n",
    "list_name[string_idx: ending_idx] # ending idx is not included"
   ]
  },
  {
   "cell_type": "code",
   "execution_count": 10,
   "metadata": {},
   "outputs": [
    {
     "name": "stdout",
     "output_type": "stream",
     "text": [
      "[94, 76, 63]\n",
      "[94, 76, 63, 48]\n",
      "[76, 63]\n"
     ]
    }
   ],
   "source": [
    "marks = [85, 94, 76, 63, 48]\n",
    "print(marks[1:4])\n",
    "print(marks[1:])\n",
    "print(marks[-3:-1])"
   ]
  },
  {
   "cell_type": "markdown",
   "metadata": {},
   "source": [
    "List Methods\n",
    "\n",
    "list = [2, 1, 3]\n",
    "\n",
    "* list.append(4) # adds one element at the end [2, 1, 3, 4]\n",
    "\n",
    "* list.sort() # sorts in ascending order [1, 2, 3]\n",
    "\n",
    "* list.sort(reverse = True) #sort in descending order [3, 2, 1]\n",
    "\n",
    "* list.reverse() # reverse list [3, 1, 2]\n",
    "\n",
    "* list.insert(idx, el) # insert element at index\n",
    "\n",
    "* list.remove(1) # removes first occurrence of element [2, 3, 1]\n",
    "\n",
    "* list.pop(idx) # remove element at the index"
   ]
  },
  {
   "cell_type": "code",
   "execution_count": 13,
   "metadata": {},
   "outputs": [
    {
     "name": "stdout",
     "output_type": "stream",
     "text": [
      "[4, 3, 2, 1]\n"
     ]
    }
   ],
   "source": [
    "list = [2, 1, 3]\n",
    "list.append(4)\n",
    "list.sort()\n",
    "list.sort(reverse=True)\n",
    "print(list)"
   ]
  },
  {
   "cell_type": "code",
   "execution_count": 22,
   "metadata": {},
   "outputs": [
    {
     "name": "stdout",
     "output_type": "stream",
     "text": [
      "['Banana', 'litchi', 'mango']\n",
      "['mango', 'litchi', 'Banana']\n",
      "['Banana', 'litchi', 'mango']\n",
      "['Banana', 'apple', 'litchi', 'mango']\n",
      "['Banana', 'apple', 'litchi']\n",
      "['Banana', 'litchi']\n"
     ]
    }
   ],
   "source": [
    "list = [\"Banana\", \"litchi\", \"mango\"]\n",
    "list.sort()\n",
    "print(list)\n",
    "list.sort(reverse=True)\n",
    "print(list)\n",
    "\n",
    "list.reverse()\n",
    "print(list)\n",
    "\n",
    "list.insert(1,\"apple\")\n",
    "print(list)\n",
    "\n",
    "list.remove(\"mango\")\n",
    "print(list)\n",
    "\n",
    "list.pop(1)\n",
    "print(list)"
   ]
  },
  {
   "cell_type": "markdown",
   "metadata": {},
   "source": [
    "Tuples in Python: \n",
    "A built-in data type that lets us create immutable sequences of values.\n",
    "\n",
    "* tup = (87, 64, 33, 95, 76) # tup[0], tup[1] ...\n",
    "* tup[0] = 43 # Not allowed in python\n",
    "\n",
    "tup1 = ()\n",
    "tup2 = (1, )\n",
    "tup3 = (1, 2, 3)"
   ]
  },
  {
   "cell_type": "code",
   "execution_count": 26,
   "metadata": {},
   "outputs": [
    {
     "name": "stdout",
     "output_type": "stream",
     "text": [
      "(2, 1, 3, 1)\n",
      "2\n"
     ]
    }
   ],
   "source": [
    "tup = (2, 1, 3, 1)\n",
    "print(tup)\n",
    "print(tup[0])\n"
   ]
  },
  {
   "cell_type": "code",
   "execution_count": null,
   "metadata": {},
   "outputs": [
    {
     "name": "stdout",
     "output_type": "stream",
     "text": [
      "<class 'tuple'>\n"
     ]
    }
   ],
   "source": [
    "tup = (1,) # to define tuple, use comma after value\n",
    "print(type(tup))"
   ]
  },
  {
   "cell_type": "markdown",
   "metadata": {},
   "source": [
    "Tuple Methods\n",
    "\n",
    "tup = (2,1,3,1)\n",
    "\n",
    "* tup.index(element) # returns index of first occurrence tup.index(1) is 1\n",
    "* tup.count(element) # counts total occurences tup.count(1) is 2"
   ]
  },
  {
   "cell_type": "code",
   "execution_count": 28,
   "metadata": {},
   "outputs": [
    {
     "name": "stdout",
     "output_type": "stream",
     "text": [
      "1\n"
     ]
    }
   ],
   "source": [
    "tup = (1, 2, 3, 4)\n",
    "print(tup.index(2))"
   ]
  },
  {
   "cell_type": "markdown",
   "metadata": {},
   "source": [
    "Let's Practice\n",
    "\n",
    "* WAP to ask the user to enter the names of 3 favorite movies & sotre them in a list.\n",
    " \n",
    "  WAP to check if a list contains a palindrome of elements. (Hint: use copy() method)\n"
   ]
  },
  {
   "cell_type": "code",
   "execution_count": 29,
   "metadata": {},
   "outputs": [
    {
     "name": "stdout",
     "output_type": "stream",
     "text": [
      "['Kal hona ho', 'kalki', 'Andhadhun']\n"
     ]
    }
   ],
   "source": [
    "A = input(\"Fist movie :\")\n",
    "B = input(\"Second movie :\")\n",
    "C = input(\"Third movie :\")\n",
    "list = [A, B, C]\n",
    "print(list)"
   ]
  },
  {
   "cell_type": "code",
   "execution_count": 45,
   "metadata": {},
   "outputs": [
    {
     "name": "stdout",
     "output_type": "stream",
     "text": [
      "['m', 'a', 'a', 'm']\n",
      "['m', 'a', 'a', 'm']\n",
      "Palindrome list\n"
     ]
    }
   ],
   "source": [
    "# WAP to check if a list contains a palindrome of elements. (Hint: use copy() method)\n",
    "l1 = input(\"list element 1\")\n",
    "l2 = input(\"list element 2\")\n",
    "l3 = input(\"list element 3\")\n",
    "l4 = input(\"list element 4\")\n",
    "list1 = []\n",
    "list1.append(l1)\n",
    "list1.append(l2)\n",
    "list1.append(l3)\n",
    "list1.append(l4)\n",
    "\n",
    "print(list1)\n",
    "list2 = list1.copy()\n",
    "list2.reverse()\n",
    "print(list2)\n",
    "if(list2 == list1):\n",
    "    print(\"Palindrome list\")\n",
    "else:\n",
    "    print(\"Not palindrome list\")"
   ]
  },
  {
   "cell_type": "markdown",
   "metadata": {},
   "source": [
    "Lets Practice Tuple\n",
    "\n",
    "* WAP to count the number of students with the \"A\" grade in the following tuple.\n",
    "[\"C\", \"D\", \"A\",\"A\", \"B\",\"B\", \"A\"]\n",
    "\n",
    "\n",
    "* Store the above value in a list and sort them from \"A\" to \"D\""
   ]
  },
  {
   "cell_type": "code",
   "execution_count": 46,
   "metadata": {},
   "outputs": [
    {
     "name": "stdout",
     "output_type": "stream",
     "text": [
      "3\n"
     ]
    }
   ],
   "source": [
    "grade = (\"C\", \"D\", \"A\",\"A\", \"B\",\"B\", \"A\")\n",
    "print(grade.count(\"A\"))"
   ]
  },
  {
   "cell_type": "code",
   "execution_count": 48,
   "metadata": {},
   "outputs": [
    {
     "name": "stdout",
     "output_type": "stream",
     "text": [
      "['A', 'A', 'A', 'B', 'B', 'C', 'D']\n"
     ]
    }
   ],
   "source": [
    "grade = [\"C\", \"D\", \"A\",\"A\", \"B\",\"B\", \"A\"]\n",
    "grade.sort()\n",
    "print(grade)\n"
   ]
  }
 ],
 "metadata": {
  "kernelspec": {
   "display_name": "Python 3",
   "language": "python",
   "name": "python3"
  },
  "language_info": {
   "codemirror_mode": {
    "name": "ipython",
    "version": 3
   },
   "file_extension": ".py",
   "mimetype": "text/x-python",
   "name": "python",
   "nbconvert_exporter": "python",
   "pygments_lexer": "ipython3",
   "version": "3.13.1"
  }
 },
 "nbformat": 4,
 "nbformat_minor": 2
}
