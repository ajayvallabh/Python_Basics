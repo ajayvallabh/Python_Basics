{
 "cells": [
  {
   "cell_type": "markdown",
   "metadata": {},
   "source": [
    "Chapter 2 will cover STRINGS & CONDITIONAL STATEMENT"
   ]
  },
  {
   "cell_type": "markdown",
   "metadata": {},
   "source": [
    "What is strings?\n",
    "String is a data type that stores a sequence of characters.\n",
    "\n",
    "Basic Operations\n",
    "* concatenation\n",
    " \"hello\" +\"world\" ---- \"hellowrold\"\n",
    "* length of str\n",
    "len(str)"
   ]
  },
  {
   "cell_type": "code",
   "execution_count": null,
   "metadata": {},
   "outputs": [
    {
     "name": "stdout",
     "output_type": "stream",
     "text": [
      "This is a string. \n",
      " we are creating in a python\n"
     ]
    }
   ],
   "source": [
    "str1 = \"This is a string.\\n we are creating in a python\" # \\n is escape seqencing character\n",
    "str2 = 'Apple' \n",
    "print(str1)"
   ]
  },
  {
   "cell_type": "markdown",
   "metadata": {},
   "source": [
    "* Concatenation\n",
    "\n",
    "* length of string"
   ]
  },
  {
   "cell_type": "code",
   "execution_count": 4,
   "metadata": {},
   "outputs": [
    {
     "name": "stdout",
     "output_type": "stream",
     "text": [
      "HelloWorld\n",
      "5\n"
     ]
    }
   ],
   "source": [
    "str1 = \"Hello\"\n",
    "str2 = \"World\"\n",
    "final_str = str1 +str2\n",
    "print(final_str)\n",
    "print(len(str2))"
   ]
  },
  {
   "cell_type": "markdown",
   "metadata": {},
   "source": [
    "* Indexing\n",
    "means providing the position to all the string characters\n",
    "* Index helps to access the character"
   ]
  },
  {
   "cell_type": "code",
   "execution_count": 10,
   "metadata": {},
   "outputs": [
    {
     "name": "stdout",
     "output_type": "stream",
     "text": [
      "v\n"
     ]
    }
   ],
   "source": [
    "str = \"University of Puerto Rico\"\n",
    "print(str[3])"
   ]
  },
  {
   "cell_type": "markdown",
   "metadata": {},
   "source": [
    "Slicing: Accessing part of string\n",
    "str[starting_idx: ending_idx]  # ending idx is not included\n",
    "\n",
    "str = \"IITKanpur\"\n",
    "str[1:4] is \"ITK\"\n",
    "str[:4] is same as str[0:4]\n",
    "str[1:] is same as str[1 : len(str)]"
   ]
  },
  {
   "cell_type": "code",
   "execution_count": null,
   "metadata": {},
   "outputs": [
    {
     "name": "stdout",
     "output_type": "stream",
     "text": [
      "\n"
     ]
    }
   ],
   "source": [
    "str = \"University of New Hampshire\"\n",
    "print(str[:4])\n",
    "print(str[5:]) # [5: len(str)]\n",
    "# print(str[-1:-10])"
   ]
  },
  {
   "cell_type": "markdown",
   "metadata": {},
   "source": [
    "String Functions\n",
    "* str = \"I am a coder.\"\n",
    "\n",
    "* str.endswith(\"er.\") # returns true if string ends with substr\n",
    "\n",
    "* str.capitalize() # capitalizes 1st char\n",
    "\n",
    "* str.replace(old, new) # replaces all ocurrences of old with new\n",
    "\n",
    "* str.find(word) # returns 1st index of 1st occurrence\n",
    "\n",
    "* str.count(\"am\") # counts the occurence of substr in string"
   ]
  },
  {
   "cell_type": "code",
   "execution_count": 21,
   "metadata": {},
   "outputs": [
    {
     "name": "stdout",
     "output_type": "stream",
     "text": [
      "True\n",
      "I am studying python from iit kanpur\n",
      "I am studying python from iit kanpur\n"
     ]
    }
   ],
   "source": [
    "str = \"i am studying python from IIT Kanpur\"\n",
    "print(str.endswith(\"pur\"))\n",
    "print(str.capitalize())\n",
    "# if you want to change in original string then you have to store the value into original string\n",
    "str = str.capitalize()\n",
    "print(str)"
   ]
  },
  {
   "cell_type": "code",
   "execution_count": 23,
   "metadata": {},
   "outputs": [
    {
     "name": "stdout",
     "output_type": "stream",
     "text": [
      "I om studying python from iit konpur\n"
     ]
    }
   ],
   "source": [
    "str = str.replace(\"a\",\"o\")\n",
    "print(str)"
   ]
  },
  {
   "cell_type": "code",
   "execution_count": 25,
   "metadata": {},
   "outputs": [
    {
     "name": "stdout",
     "output_type": "stream",
     "text": [
      "21\n"
     ]
    }
   ],
   "source": [
    "print(str.find(\"from\"))"
   ]
  },
  {
   "cell_type": "code",
   "execution_count": 27,
   "metadata": {},
   "outputs": [
    {
     "name": "stdout",
     "output_type": "stream",
     "text": [
      "1\n"
     ]
    }
   ],
   "source": [
    "print(str.count(\"from\"))"
   ]
  },
  {
   "cell_type": "markdown",
   "metadata": {},
   "source": [
    "* Practice Question\n",
    "Write a program to input user's first name and print its length"
   ]
  },
  {
   "cell_type": "code",
   "execution_count": 28,
   "metadata": {},
   "outputs": [
    {
     "name": "stdout",
     "output_type": "stream",
     "text": [
      "4\n"
     ]
    }
   ],
   "source": [
    "name  = input(\"Enter the first name:\")\n",
    "print(len(name))"
   ]
  },
  {
   "cell_type": "markdown",
   "metadata": {},
   "source": [
    "Write a program to find the occurrence of '$' in a string"
   ]
  },
  {
   "cell_type": "code",
   "execution_count": 29,
   "metadata": {},
   "outputs": [
    {
     "name": "stdout",
     "output_type": "stream",
     "text": [
      "2\n"
     ]
    }
   ],
   "source": [
    "str = \" Hi, $I am living in USA. Here 1$ = 88 rupees\"  \n",
    "print(str.count(\"$\"))"
   ]
  },
  {
   "cell_type": "markdown",
   "metadata": {},
   "source": [
    "* Conditional Statements\n",
    "if-elif-else(SYNTAX)\n",
    "\n",
    "if(condition):\n",
    " Statement1\n",
    " elif(condition):\n",
    "  Statement2\n",
    "  else:\n",
    "  StatementN"
   ]
  },
  {
   "cell_type": "code",
   "execution_count": null,
   "metadata": {},
   "outputs": [
    {
     "name": "stdout",
     "output_type": "stream",
     "text": [
      "I can cast the vote and apply for license\n"
     ]
    }
   ],
   "source": [
    "age = 21\n",
    "\n",
    "if(age>= 18):\n",
    "    print(\"I can cast the vote and apply for license\")\n",
    "    "
   ]
  },
  {
   "cell_type": "code",
   "execution_count": 34,
   "metadata": {},
   "outputs": [
    {
     "name": "stdout",
     "output_type": "stream",
     "text": [
      "light is broken\n"
     ]
    }
   ],
   "source": [
    "light = \"pink\"\n",
    "\n",
    "if(light==\"red\"):\n",
    "    print(\"stop\")\n",
    "elif(light == \"green\"):\n",
    "    print(\"go\")\n",
    "elif(light == \"Yellow\"):\n",
    "    print(\"look\")\n",
    "else:\n",
    "    print(\"light is broken\")"
   ]
  },
  {
   "cell_type": "code",
   "execution_count": null,
   "metadata": {},
   "outputs": [
    {
     "name": "stdout",
     "output_type": "stream",
     "text": [
      "greater than 2\n"
     ]
    }
   ],
   "source": [
    "num = 5\n",
    "if(num>2):\n",
    "    print(\"greater than 2\")\n",
    "elif(num>3):\n",
    "    print(\"number is greater than 3\") # indentation or proper spacing is very important in python\n"
   ]
  },
  {
   "cell_type": "markdown",
   "metadata": {},
   "source": [
    "Conditional Statements: grade students based on marks\n",
    "marks>=90, grad = \"A\"\n",
    "90> marks>= 80, grade = \"B\"\n",
    "80> marks>= 70, grade = \"c\"\n",
    "70> marks, grade = \"D\""
   ]
  },
  {
   "cell_type": "code",
   "execution_count": 35,
   "metadata": {},
   "outputs": [
    {
     "name": "stdout",
     "output_type": "stream",
     "text": [
      "D\n"
     ]
    }
   ],
   "source": [
    "marks = int(input(\"enter the marks:\"))\n",
    "if(marks>=90):\n",
    "    grade = \"A\"\n",
    "elif(marks >=80 and marks< 90):\n",
    "    grade = \"B\"\n",
    "elif(marks >=70 and marks< 80):\n",
    "    grade = \"C\"\n",
    "else:\n",
    "    grade = \"D\"\n",
    "    \n",
    "print(grade)"
   ]
  },
  {
   "cell_type": "markdown",
   "metadata": {},
   "source": [
    "* Practice Question\n",
    "\n",
    "WAP to check if a number entered by the user is odd or even\n",
    "\n",
    "WAP to find the greatest of 3 numbers entered by the user\n",
    "\n",
    "WAP to chek if a number is a multiple of 7 or not\n"
   ]
  },
  {
   "cell_type": "code",
   "execution_count": 36,
   "metadata": {},
   "outputs": [
    {
     "name": "stdout",
     "output_type": "stream",
     "text": [
      "ODD\n"
     ]
    }
   ],
   "source": [
    "num = int(input(\"enter number: \"))\n",
    "\n",
    "if(num % 2 ==0):\n",
    "    print(\"Even\")\n",
    "else:\n",
    "    print(\"ODD\")"
   ]
  },
  {
   "cell_type": "code",
   "execution_count": null,
   "metadata": {},
   "outputs": [
    {
     "name": "stdout",
     "output_type": "stream",
     "text": [
      "greatest number is 45\n"
     ]
    }
   ],
   "source": [
    "a =int(input(\"Enter first number:\"))\n",
    "b =int(input(\"Enter second number:\"))\n",
    "c =int(input(\"Enter third number:\"))\n",
    "if (a>=b and a>c):\n",
    "    print(\"greatest number is\", a)\n",
    "elif(b>=c):\n",
    "    print(\"greatest number is\", b)\n",
    "else:\n",
    "    print(\"greatest number is\", c)"
   ]
  }
 ],
 "metadata": {
  "kernelspec": {
   "display_name": "Python 3",
   "language": "python",
   "name": "python3"
  },
  "language_info": {
   "codemirror_mode": {
    "name": "ipython",
    "version": 3
   },
   "file_extension": ".py",
   "mimetype": "text/x-python",
   "name": "python",
   "nbconvert_exporter": "python",
   "pygments_lexer": "ipython3",
   "version": "3.13.1"
  }
 },
 "nbformat": 4,
 "nbformat_minor": 2
}
