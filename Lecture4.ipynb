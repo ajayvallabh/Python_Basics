{
 "cells": [
  {
   "cell_type": "markdown",
   "metadata": {},
   "source": [
    "Dictionary:\n",
    "Dictionaries are used to store data values in key:value pairs\n",
    "\n",
    "They are unordered, mutable(change) & don't allow duplicate keys"
   ]
  },
  {
   "cell_type": "code",
   "execution_count": null,
   "metadata": {},
   "outputs": [
    {
     "name": "stdout",
     "output_type": "stream",
     "text": [
      "{'name': 'Ajay', 'CGPA': 8.75, 'marks': [98, 97, 95]}\n"
     ]
    }
   ],
   "source": [
    "dict = {\n",
    "    \"name\" : \"Ajay\",\n",
    "    \"CGPA\" : 8.75,\n",
    "    \"marks\" : [98, 97, 95],\n",
    "}\n",
    "print(dict)"
   ]
  },
  {
   "cell_type": "code",
   "execution_count": 5,
   "metadata": {},
   "outputs": [
    {
     "name": "stdout",
     "output_type": "stream",
     "text": [
      "{'name': 'IIT Kanpur'}\n"
     ]
    }
   ],
   "source": [
    "# Create Null Dictionary and add new key values\n",
    "\n",
    "null_dict = {}\n",
    "null_dict[\"name\"] = \"IIT Kanpur\"\n",
    "print(null_dict)"
   ]
  },
  {
   "cell_type": "markdown",
   "metadata": {},
   "source": [
    "Nested in Dictionaries"
   ]
  },
  {
   "cell_type": "code",
   "execution_count": 9,
   "metadata": {},
   "outputs": [
    {
     "name": "stdout",
     "output_type": "stream",
     "text": [
      "{'Phy': 97, 'Chem': 98, 'Math': 86}\n",
      "98\n"
     ]
    }
   ],
   "source": [
    "Student = {\n",
    "    \"name\" : \"Ajay Vallabh\",\n",
    "    \"Subjects\" : {\n",
    "        \"Phy\" : 97,\n",
    "        \"Chem\" : 98,\n",
    "        \"Math\" : 86\n",
    "    }\n",
    "}\n",
    "print(Student[\"Subjects\"])\n",
    "print(Student[\"Subjects\"][\"Chem\"])\n",
    "# This is called nested dictionary"
   ]
  },
  {
   "cell_type": "markdown",
   "metadata": {},
   "source": [
    "Dictionary Methods\n",
    "* myDict.keys() # returns all keys\n",
    "\n",
    "* myDict.values() # returns all values\n",
    "\n",
    "* myDict.items()  # returns all (key, val) pairs as tuples \n",
    "\n",
    "* myDict.get(\"key\") # returns the key accoring to value\n",
    "\n",
    "* myDict.updates(newDict) # inserts the specified items to the dictionary\n"
   ]
  },
  {
   "cell_type": "code",
   "execution_count": 11,
   "metadata": {},
   "outputs": [
    {
     "name": "stdout",
     "output_type": "stream",
     "text": [
      "dict_keys(['name', 'Subjects'])\n",
      "['name', 'Subjects']\n"
     ]
    }
   ],
   "source": [
    "print(Student.keys())\n",
    "print(list(Student.keys()))"
   ]
  },
  {
   "cell_type": "code",
   "execution_count": 12,
   "metadata": {},
   "outputs": [
    {
     "name": "stdout",
     "output_type": "stream",
     "text": [
      "dict_values(['Ajay Vallabh', {'Phy': 97, 'Chem': 98, 'Math': 86}])\n"
     ]
    }
   ],
   "source": [
    "print(Student.values())"
   ]
  },
  {
   "cell_type": "code",
   "execution_count": 14,
   "metadata": {},
   "outputs": [
    {
     "name": "stdout",
     "output_type": "stream",
     "text": [
      "dict_items([('name', 'Ajay Vallabh'), ('Subjects', {'Phy': 97, 'Chem': 98, 'Math': 86})])\n"
     ]
    }
   ],
   "source": [
    "print(Student.items())"
   ]
  },
  {
   "cell_type": "code",
   "execution_count": 16,
   "metadata": {},
   "outputs": [
    {
     "name": "stdout",
     "output_type": "stream",
     "text": [
      "('name', 'Ajay Vallabh')\n"
     ]
    }
   ],
   "source": [
    "pairs = list(Student.items())\n",
    "print(pairs[0])"
   ]
  },
  {
   "cell_type": "code",
   "execution_count": 17,
   "metadata": {},
   "outputs": [
    {
     "name": "stdout",
     "output_type": "stream",
     "text": [
      "{'name': 'Ajay Vallabh', 'Subjects': {'Phy': 97, 'Chem': 98, 'Math': 86}, 'city': 'delhi'}\n"
     ]
    }
   ],
   "source": [
    "# update keyword is used to add the value in dictionary\n",
    "\n",
    "Student.update({\"city\": \"delhi\"})\n",
    "print(Student)"
   ]
  },
  {
   "cell_type": "markdown",
   "metadata": {},
   "source": [
    "Set in Python\n",
    "\n",
    "Set is the collection of the unordered items.\n",
    "Each element in the set must be unique & immutable.\n",
    "\n",
    "nums = {1, 2, 3, 4}\n",
    "set2 = {1, 2, 2, 2} \n",
    "\n",
    "# repeated elements stored only once, so it resolved to {1,2}\n",
    "\n",
    "null_set = set() # empty set syntax\n"
   ]
  },
  {
   "cell_type": "code",
   "execution_count": null,
   "metadata": {},
   "outputs": [
    {
     "name": "stdout",
     "output_type": "stream",
     "text": [
      "{1, 2, 4, 'world', 'hello'}\n",
      "<class 'set'>\n"
     ]
    }
   ],
   "source": [
    "collection = {1, 2, 2, 2, \"hello\", \"world\", \"world\", 4}\n",
    "print(collection)\n",
    "print(type(collection)) # total number of items"
   ]
  },
  {
   "cell_type": "code",
   "execution_count": 20,
   "metadata": {},
   "outputs": [
    {
     "name": "stdout",
     "output_type": "stream",
     "text": [
      "<class 'set'>\n"
     ]
    }
   ],
   "source": [
    "# how to create empty set\n",
    "\n",
    "collection = {} # empty dictionary\n",
    "\n",
    "collection = set() # this is the right way to define empty set syntax\n",
    "\n",
    "print(type(collection)) "
   ]
  },
  {
   "cell_type": "markdown",
   "metadata": {},
   "source": [
    "Set Methods\n",
    "sets are mutable but the elements inside the set are immutable\n",
    "\n",
    "\n",
    "* set.add(element) # adds an element\n",
    "\n",
    "* set.remove(element) # removes the elements\n",
    "\n",
    "* set.clear() # empties the set\n",
    "\n",
    "* set.pop() # removes a random value"
   ]
  },
  {
   "cell_type": "code",
   "execution_count": 23,
   "metadata": {},
   "outputs": [
    {
     "name": "stdout",
     "output_type": "stream",
     "text": [
      "{1, 2}\n",
      "set()\n"
     ]
    }
   ],
   "source": [
    "collection = set() # define empty set\n",
    "\n",
    "# add some values in this set\n",
    "\n",
    "collection.add(1)\n",
    "collection.add(2)\n",
    "\n",
    "print(collection)\n",
    "\n",
    "collection.clear()\n",
    "\n",
    "print(collection)"
   ]
  },
  {
   "cell_type": "code",
   "execution_count": 24,
   "metadata": {},
   "outputs": [
    {
     "name": "stdout",
     "output_type": "stream",
     "text": [
      "{'coding', 'hello'}\n"
     ]
    }
   ],
   "source": [
    "collection = {\"hello\", \"wolrd\", \"coding\"}\n",
    "collection.pop()\n",
    "\n",
    "print(collection)"
   ]
  },
  {
   "cell_type": "markdown",
   "metadata": {},
   "source": [
    "Set Methods\n",
    "\n",
    "* set.union(set2) # combines both set values & returns new\n",
    "\n",
    "* set.intersection(set2) # combines common values & returns new"
   ]
  },
  {
   "cell_type": "code",
   "execution_count": 27,
   "metadata": {},
   "outputs": [
    {
     "name": "stdout",
     "output_type": "stream",
     "text": [
      "{1, 2, 3}\n",
      "{3, 4, 5}\n",
      "{1, 2, 3, 4, 5}\n",
      "{3}\n"
     ]
    }
   ],
   "source": [
    "set1 = {1, 2, 3}\n",
    "set2 = {3, 4, 5}\n",
    "\n",
    "set3 = set1.union(set2)\n",
    "\n",
    "print(set1)\n",
    "print(set2)\n",
    "print(set3)\n",
    "\n",
    "set4 = set1.intersection(set2)\n",
    "print(set4)"
   ]
  },
  {
   "cell_type": "markdown",
   "metadata": {},
   "source": [
    "Practice Questions\n",
    "1) Store following word meanings in a python dictionary:\n",
    "table: \"a piece of furniture\", \"list of facts & figures\"\n",
    "cat: \"a small animal\""
   ]
  },
  {
   "cell_type": "code",
   "execution_count": 32,
   "metadata": {},
   "outputs": [
    {
     "name": "stdout",
     "output_type": "stream",
     "text": [
      "{'table': ['a piece of furniture', 'list of facts & figures'], 'cat': 'a small animal'}\n"
     ]
    }
   ],
   "source": [
    "Dict = {\n",
    "    \"table\" : [\"a piece of furniture\", \"list of facts & figures\"],\n",
    "    \"cat\" : \"a small animal\"\n",
    "}\n",
    "\n",
    "print(Dict)"
   ]
  },
  {
   "cell_type": "markdown",
   "metadata": {},
   "source": [
    "2) You are given a list of subjects for students. Assume one classroom is required for 1 subject. How many classrooms are needed by all students."
   ]
  },
  {
   "cell_type": "code",
   "execution_count": 38,
   "metadata": {},
   "outputs": [
    {
     "name": "stdout",
     "output_type": "stream",
     "text": [
      "5\n"
     ]
    }
   ],
   "source": [
    "Subjects = {\"python\", \"java\", \"c++\", \"python\", \"javascript\", \"java\", \"python\", \"java\", \"c++\", \"C\"}\n",
    "\n",
    "Classrooms = len(Subjects)\n",
    "print(Classrooms)"
   ]
  },
  {
   "cell_type": "markdown",
   "metadata": {},
   "source": [
    "WAP to enter marks of 3 subjects from the user and store them in dictionary. Start with an empty dictionary & add one by one. Use subject name as key & marks as vlaue."
   ]
  },
  {
   "cell_type": "code",
   "execution_count": 41,
   "metadata": {},
   "outputs": [
    {
     "name": "stdout",
     "output_type": "stream",
     "text": [
      "{'Phy': 90, 'Math': 78, 'Chem': 87}\n"
     ]
    }
   ],
   "source": [
    "Subjects = {}\n",
    "x = int(input(\"enter physics :\")) \n",
    "y = int(input(\"enter Meth :\")) \n",
    "z = int(input(\"enter chemistry :\")) \n",
    "Subjects.update({\"Phy\" : x})\n",
    "Subjects.update({\"Math\" : y})\n",
    "Subjects.update({\"Chem\" : z})\n",
    "\n",
    "print(Subjects)"
   ]
  },
  {
   "cell_type": "markdown",
   "metadata": {},
   "source": [
    "Figure out a way to store 9 & 9.0 as separate values in the set.\n",
    "(You can take help of built-in data types)"
   ]
  },
  {
   "cell_type": "code",
   "execution_count": 42,
   "metadata": {},
   "outputs": [
    {
     "name": "stdout",
     "output_type": "stream",
     "text": [
      "{('int', 9), ('float', 9.0)}\n"
     ]
    }
   ],
   "source": [
    "values = {\n",
    "    (\"float\", 9.0),\n",
    "    (\"int\", 9)\n",
    "}\n",
    "print(values)"
   ]
  }
 ],
 "metadata": {
  "kernelspec": {
   "display_name": "Python 3",
   "language": "python",
   "name": "python3"
  },
  "language_info": {
   "codemirror_mode": {
    "name": "ipython",
    "version": 3
   },
   "file_extension": ".py",
   "mimetype": "text/x-python",
   "name": "python",
   "nbconvert_exporter": "python",
   "pygments_lexer": "ipython3",
   "version": "3.13.1"
  }
 },
 "nbformat": 4,
 "nbformat_minor": 2
}
