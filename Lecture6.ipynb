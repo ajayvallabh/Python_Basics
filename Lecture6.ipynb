{
 "cells": [
  {
   "cell_type": "markdown",
   "metadata": {},
   "source": [
    "Functions in Python\n",
    "\n",
    "Function is a block of statements that perform a specific task.\n",
    "\n",
    "def func_name( param1, param2):\n",
    "# some work\n",
    "\n",
    "return val\n",
    "\n",
    "func_name(arg1, arg2 ..) # function call\n"
   ]
  },
  {
   "cell_type": "code",
   "execution_count": null,
   "metadata": {},
   "outputs": [
    {
     "name": "stdout",
     "output_type": "stream",
     "text": [
      "15\n"
     ]
    },
    {
     "data": {
      "text/plain": [
       "15"
      ]
     },
     "execution_count": 3,
     "metadata": {},
     "output_type": "execute_result"
    }
   ],
   "source": [
    "\n",
    "# Function defination\n",
    "def Calc_sum(a,b):  # parameters   \n",
    "    sum = a+b\n",
    "    print(sum)\n",
    "    return sum\n",
    "\n",
    "Calc_sum(5, 10)  # function calling; arguments"
   ]
  },
  {
   "cell_type": "code",
   "execution_count": 9,
   "metadata": {},
   "outputs": [
    {
     "name": "stdout",
     "output_type": "stream",
     "text": [
      "12.666666666666666\n"
     ]
    },
    {
     "data": {
      "text/plain": [
       "12.666666666666666"
      ]
     },
     "execution_count": 9,
     "metadata": {},
     "output_type": "execute_result"
    }
   ],
   "source": [
    "def calc_avg(a, b, c):\n",
    "    sum = a+b+c\n",
    "    avg = sum/3\n",
    "    print(avg)\n",
    "    return avg\n",
    "\n",
    "calc_avg(10,12,16)"
   ]
  },
  {
   "cell_type": "code",
   "execution_count": null,
   "metadata": {},
   "outputs": [
    {
     "name": "stdout",
     "output_type": "stream",
     "text": [
      "IITian Ajay\n",
      "Ajay GLA\n"
     ]
    }
   ],
   "source": [
    "# Print function\n",
    "print(\"IITian\",\"Ajay\") # sep =\" \"\n",
    "print (\"Ajay\", end=\" \")\n",
    "print(\"GLA\") # end = \"\\n\""
   ]
  },
  {
   "cell_type": "markdown",
   "metadata": {},
   "source": [
    "Default Paramters "
   ]
  },
  {
   "cell_type": "code",
   "execution_count": 13,
   "metadata": {},
   "outputs": [
    {
     "name": "stdout",
     "output_type": "stream",
     "text": [
      "6\n"
     ]
    },
    {
     "data": {
      "text/plain": [
       "6"
      ]
     },
     "execution_count": 13,
     "metadata": {},
     "output_type": "execute_result"
    }
   ],
   "source": [
    "def calc_prod(a=2, b=3):  # here we already provide default value in function\n",
    "    print(a*b)\n",
    "    return(a*b)\n",
    "\n",
    "\n",
    "calc_prod()"
   ]
  },
  {
   "cell_type": "markdown",
   "metadata": {},
   "source": [
    "Lets Practice\n",
    "\n",
    "WAF to print the length of the list (list is the parameter)\n",
    "\n",
    "WAF to print the elements of a list in a single  line"
   ]
  },
  {
   "cell_type": "code",
   "execution_count": 16,
   "metadata": {},
   "outputs": [
    {
     "name": "stdout",
     "output_type": "stream",
     "text": [
      "5\n",
      "delhi agra noida pune mumbai "
     ]
    }
   ],
   "source": [
    "cities = [\"delhi\", \"agra\", \"noida\", \"pune\", \"mumbai\"]\n",
    "meth = [1,2,3,4,5,6,7,8]\n",
    "\n",
    "def print_length(list):\n",
    "    print(len(list))\n",
    "    \n",
    "print_length(cities)\n",
    "\n",
    "def print_list(list):\n",
    "    for item in list:\n",
    "        print(item, end=\" \")\n",
    "\n",
    "print_list(cities)"
   ]
  },
  {
   "cell_type": "markdown",
   "metadata": {},
   "source": [
    "WAF to find factorial of n. (n is the parameter)"
   ]
  },
  {
   "cell_type": "code",
   "execution_count": 17,
   "metadata": {},
   "outputs": [
    {
     "name": "stdout",
     "output_type": "stream",
     "text": [
      "720\n"
     ]
    }
   ],
   "source": [
    "def calc_fact(n):\n",
    "    fact = 1\n",
    "    for i in range(1, n+1):\n",
    "        fact *= i\n",
    "    print(fact)\n",
    "    \n",
    "calc_fact(6)        "
   ]
  },
  {
   "cell_type": "code",
   "execution_count": 18,
   "metadata": {},
   "outputs": [
    {
     "data": {
      "text/plain": [
       "850"
      ]
     },
     "execution_count": 18,
     "metadata": {},
     "output_type": "execute_result"
    }
   ],
   "source": [
    "# Write a function to convert USD in INR\n",
    "def converter(usd_val):\n",
    "    inr_val = usd_val*85\n",
    "    return inr_val\n",
    "\n",
    "converter(10)"
   ]
  },
  {
   "cell_type": "markdown",
   "metadata": {},
   "source": [
    "* Recursion\n",
    "\n",
    "When a function calls itself repeatedly\n",
    "\n",
    "# prints n to 1 backwards"
   ]
  },
  {
   "cell_type": "code",
   "execution_count": null,
   "metadata": {},
   "outputs": [
    {
     "name": "stdout",
     "output_type": "stream",
     "text": [
      "5\n",
      "4\n",
      "3\n",
      "2\n",
      "1\n"
     ]
    }
   ],
   "source": [
    "# recursive function\n",
    "def show(n):\n",
    "    if(n==0):   # base case\n",
    "        return\n",
    "    print(n)\n",
    "    show(n-1)\n",
    "\n",
    "show(5)"
   ]
  },
  {
   "cell_type": "code",
   "execution_count": 21,
   "metadata": {},
   "outputs": [
    {
     "data": {
      "text/plain": [
       "120"
      ]
     },
     "execution_count": 21,
     "metadata": {},
     "output_type": "execute_result"
    }
   ],
   "source": [
    "# factorial program through recursion\n",
    "def fact(n):\n",
    "    if (n==0 or n==1): # base case condition in recursion\n",
    "        return 1\n",
    "    else:\n",
    "        return n * fact(n-1)\n",
    "\n",
    "fact(5)        "
   ]
  },
  {
   "cell_type": "markdown",
   "metadata": {},
   "source": [
    "Write a recursive function to calculate the sum of first n natural numbers."
   ]
  },
  {
   "cell_type": "code",
   "execution_count": null,
   "metadata": {},
   "outputs": [
    {
     "data": {
      "text/plain": [
       "190"
      ]
     },
     "execution_count": 23,
     "metadata": {},
     "output_type": "execute_result"
    }
   ],
   "source": [
    "def natural_sum(n):\n",
    "    if(n==0):\n",
    "        return \n",
    "    else:\n",
    "        sum = n + natural_sum(n-1)\n",
    "        return sum\n",
    "\n",
    "natural_sum(19)"
   ]
  },
  {
   "cell_type": "markdown",
   "metadata": {},
   "source": [
    "write a recursive function to print all elements in a list\n",
    "Hint: use list & index as parameters"
   ]
  },
  {
   "cell_type": "code",
   "execution_count": 26,
   "metadata": {},
   "outputs": [
    {
     "name": "stdout",
     "output_type": "stream",
     "text": [
      "lichi\n",
      "ganabana\n",
      "banana\n"
     ]
    }
   ],
   "source": [
    "def print_list(list, idx):\n",
    "    if(idx == len(list)):\n",
    "        return\n",
    "    print(list[idx])\n",
    "    print_list(list, idx+1)\n",
    "    \n",
    "fruit = [\"mango\", \"apple\", \"lichi\", \"ganabana\", \"banana\"]\n",
    "\n",
    "print_list(fruit,2)"
   ]
  }
 ],
 "metadata": {
  "kernelspec": {
   "display_name": "Python 3",
   "language": "python",
   "name": "python3"
  },
  "language_info": {
   "codemirror_mode": {
    "name": "ipython",
    "version": 3
   },
   "file_extension": ".py",
   "mimetype": "text/x-python",
   "name": "python",
   "nbconvert_exporter": "python",
   "pygments_lexer": "ipython3",
   "version": "3.13.1"
  }
 },
 "nbformat": 4,
 "nbformat_minor": 2
}
