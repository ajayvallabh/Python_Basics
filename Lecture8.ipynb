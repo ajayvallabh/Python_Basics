{
 "cells": [
  {
   "cell_type": "markdown",
   "metadata": {},
   "source": [
    "OOP in Python: Obecjt Oriented Programing in python\n",
    "\n",
    "To map with real world scenarios, we started using objects in code.\n",
    "\n",
    "This is called object oriented programming\n"
   ]
  },
  {
   "cell_type": "markdown",
   "metadata": {},
   "source": [
    "* Class & Object in Python\n",
    "\n",
    "Class is a blueprint for creating objects.\n",
    "\n",
    "# Creating class\n",
    "\n",
    "class Student:\n",
    "name = \"Karun Kumar\" \n",
    "\n",
    "# Creating Object (instance)\n",
    "\n",
    "s1 = Student()\n",
    "print(s1.name)"
   ]
  },
  {
   "cell_type": "code",
   "execution_count": 2,
   "metadata": {},
   "outputs": [
    {
     "name": "stdout",
     "output_type": "stream",
     "text": [
      "Ajay Vallabh\n",
      "Ajay Vallabh\n"
     ]
    }
   ],
   "source": [
    "# Creating class\n",
    "class Student:\n",
    "    name = \"Ajay Vallabh\"\n",
    "    \n",
    "# creating object (instance)\n",
    "\n",
    "s1 = Student() # instances of class\n",
    "print(s1.name)\n",
    "\n",
    "s2 = Student()\n",
    "print(s2.name)"
   ]
  },
  {
   "cell_type": "code",
   "execution_count": 4,
   "metadata": {},
   "outputs": [
    {
     "name": "stdout",
     "output_type": "stream",
     "text": [
      "Blue\n",
      "Mercedes\n"
     ]
    }
   ],
   "source": [
    "class Car:\n",
    "    color = \"Blue\"\n",
    "    model = \"Mercedes\"\n",
    "    \n",
    "car1 = Car()\n",
    "print(car1.color)\n",
    "print(car1.model)"
   ]
  },
  {
   "cell_type": "markdown",
   "metadata": {},
   "source": [
    "* Constructor: init Function  # whenever we create the object, constructor function execute\n",
    "\n",
    "All classes have a function called_init_(), which is always executed when the class is being initiated.\n",
    "\n",
    "# creating class\n",
    "class Student:\n",
    "    def __init__(self, fullname): \n",
    "    self.name = fullname\n",
    "\n",
    "\n",
    "Here \"self\" parameter is the reference to the current instance of the class, and is used to access variables that belong to the class.\n",
    "\n",
    "# creating object\n",
    "\n",
    "s1 = Student(\"karan\")\n",
    "print(s1.name)"
   ]
  },
  {
   "cell_type": "code",
   "execution_count": 23,
   "metadata": {},
   "outputs": [
    {
     "name": "stdout",
     "output_type": "stream",
     "text": [
      "<__main__.Student object at 0x10576a900>\n",
      "creating new student in Database..\n"
     ]
    }
   ],
   "source": [
    "# program\n",
    "\n",
    "class Student:\n",
    "    def __init__(self):   # constructor need an argument \"self\"\n",
    "        print(self)\n",
    "        print(\"creating new student in Database..\")\n",
    "\n",
    "# Create Object\n",
    "s1 = Student()"
   ]
  },
  {
   "cell_type": "code",
   "execution_count": null,
   "metadata": {},
   "outputs": [
    {
     "name": "stdout",
     "output_type": "stream",
     "text": [
      "creating new student in Database..\n",
      "Ajay\n",
      "90\n",
      "creating new student in Database..\n",
      "Anuj 97\n",
      "IIT Kanpur\n"
     ]
    }
   ],
   "source": [
    "\n",
    "class Student:\n",
    "    College_name = \"IIT Kanpur\"  # class attribute. we can use multiple time without changing it. \n",
    "    def __init__(self, name, marks):   # object attribute \n",
    "        self.name = name\n",
    "        self.marks = marks\n",
    "        print(\"creating new student in Database..\")\n",
    "        \n",
    "# Create Object\n",
    "s1 = Student(\"Ajay\", 90)\n",
    "print(s1.name)\n",
    "print(s1.marks)\n",
    "\n",
    "s2 = Student(\"Anuj\", 97)\n",
    "print(s2.name, s2.marks)\n",
    "print(s2.College_name)  # we can call class attribute \n",
    "print(Student.College_name) # Similarly we can also call class attribute by writing name of the class  and class attribute"
   ]
  },
  {
   "cell_type": "markdown",
   "metadata": {},
   "source": [
    "Class & Instance Attributes\n",
    "\n",
    "Class.attr\n",
    "\n",
    "obj.attr\n",
    "\n",
    "object attribute > class attribute"
   ]
  },
  {
   "cell_type": "markdown",
   "metadata": {},
   "source": [
    "* Methods\n",
    "\n",
    "Methods are functions that belong to objects.\n",
    "\n",
    "# creating class\n",
    "\n",
    "class Student: \n",
    "    def__init__(self, fullname):     # Constructor used to define attribute (propertues)\n",
    "    self.name = fullname\n",
    "\n",
    "\n",
    "def hello(self):           # Functions which are used to define inside the class is called methods (what we can do)\n",
    "    print(\"hello\", self.name)  \n",
    "\n",
    "# creating object\n",
    "\n",
    "s1 = Student(\"Ajay\")\n",
    "s1.hello()"
   ]
  },
  {
   "cell_type": "code",
   "execution_count": null,
   "metadata": {},
   "outputs": [
    {
     "name": "stdout",
     "output_type": "stream",
     "text": [
      "creating new student in Database..\n",
      "welcome student Ajay\n"
     ]
    },
    {
     "data": {
      "text/plain": [
       "97"
      ]
     },
     "execution_count": 22,
     "metadata": {},
     "output_type": "execute_result"
    }
   ],
   "source": [
    "# class with method\n",
    "\n",
    "class Student:\n",
    "    College_name = \"IIT Kanpur\"  # class attribute. we can use multiple time without changing it. \n",
    "    def __init__(self, name, marks):   # object attribute \n",
    "        self.name = name\n",
    "        self.marks = marks \n",
    "        print(\"creating new student in Database..\")\n",
    "        \n",
    "    def welcome(self):\n",
    "        print(\"welcome student\", self.name)\n",
    "        \n",
    "    def get_marks(self):\n",
    "        return self.marks\n",
    "    \n",
    "# Create Object\n",
    "        \n",
    "s1 = Student(\"Ajay\", 97)\n",
    "s1.welcome()\n",
    "s1.get_marks()"
   ]
  },
  {
   "cell_type": "markdown",
   "metadata": {},
   "source": [
    "* Create student class that takes name & marks of 3 subjects as arguments in constructor.\n",
    "\n",
    "Then create a method to print the average."
   ]
  },
  {
   "cell_type": "code",
   "execution_count": 25,
   "metadata": {},
   "outputs": [
    {
     "data": {
      "text/plain": [
       "81.0"
      ]
     },
     "execution_count": 25,
     "metadata": {},
     "output_type": "execute_result"
    }
   ],
   "source": [
    "# Create class\n",
    "\n",
    "class Student:\n",
    "    def __init__(self, name, makrs):\n",
    "        self.name = name\n",
    "        self.marks = makrs\n",
    "        \n",
    "    def avg(self):\n",
    "        avg_marks = (self.marks[0]+self.marks[1]+self.marks[2])/3\n",
    "        return avg_marks\n",
    "\n",
    "# Create object\n",
    "S1 = Student(\"Ajay\", [98,67,78])\n",
    "S1.avg() \n",
    "        "
   ]
  },
  {
   "cell_type": "markdown",
   "metadata": {},
   "source": [
    "Static Methods:\n",
    "\n",
    "these methods don't use the self paramenter (work at class level)\n",
    "\n",
    "class Student:\n",
    "    @staticmethod # decorator\n",
    "    def college():\n",
    "    print(\"ABC College\")\n",
    "\n",
    "\n",
    "* Decorators: decorators allow us to wrap another function in order to extend the behaviour of the wrapped function, without permanently modifying it."
   ]
  },
  {
   "cell_type": "code",
   "execution_count": 26,
   "metadata": {},
   "outputs": [
    {
     "name": "stdout",
     "output_type": "stream",
     "text": [
      "hello world\n"
     ]
    }
   ],
   "source": [
    "class Student:\n",
    "    @staticmethod # decorator, this text is used to define static method in python\n",
    "    def hello():\n",
    "        print(\"hello world\")\n",
    "\n",
    "# Object \n",
    "s1 = Student()\n",
    "s1.hello()    "
   ]
  },
  {
   "cell_type": "markdown",
   "metadata": {},
   "source": [
    "* Important Concept\n",
    "\n",
    "# Abstraction\n",
    "\n",
    "Hiding the implementation details of a class and only showing the essential features to the user.\n",
    "\n",
    "# Encapsulation\n",
    "\n",
    "Wrapping data and functions into a single unit (object). "
   ]
  },
  {
   "cell_type": "code",
   "execution_count": 28,
   "metadata": {},
   "outputs": [
    {
     "name": "stdout",
     "output_type": "stream",
     "text": [
      "Car Started ..\n"
     ]
    }
   ],
   "source": [
    "# Abstraction Program\n",
    "\n",
    "class Car:\n",
    "    def __init__(self):\n",
    "        self.acc = False\n",
    "        self.brk = False\n",
    "        self.clutch = False\n",
    "        \n",
    "    def start(self):\n",
    "        self.clutch = True\n",
    "        self.acc = True\n",
    "        print(\"Car Started ..\")\n",
    "\n",
    "\n",
    "# Object\n",
    "\n",
    "car1 = Car()\n",
    "car1.start()        "
   ]
  },
  {
   "cell_type": "markdown",
   "metadata": {},
   "source": [
    "Lets Practice\n",
    "\n",
    "Create account class with 2 attributes - balance and account no.\n",
    "Create methods for debit, credit, and printing the balance.\n"
   ]
  },
  {
   "cell_type": "code",
   "execution_count": 33,
   "metadata": {},
   "outputs": [
    {
     "name": "stdout",
     "output_type": "stream",
     "text": [
      "10000\n",
      "321456\n",
      "Rs. 100 was credited\n",
      "Total balance =  10100\n",
      "Rs. 232 was debited\n",
      "Total balance =  9868\n"
     ]
    }
   ],
   "source": [
    "class Account:\n",
    "    def __init__(self, balance, AccNo):\n",
    "        self.balance = balance\n",
    "        self.AccNo = AccNo\n",
    "    \n",
    "    def debit(self, amount):\n",
    "            self.balance -= amount\n",
    "            print(\"Rs.\", amount, \"was debited\")\n",
    "            print(\"Total balance = \", self.get_balance())\n",
    "\n",
    "    def credit(self, amount):\n",
    "            self.balance += amount\n",
    "            print(\"Rs.\", amount, \"was credited\")\n",
    "            print(\"Total balance = \", self.get_balance())\n",
    "            \n",
    "    def get_balance(self):\n",
    "        return self.balance\n",
    "            \n",
    "\n",
    "Ac1 = Account(10000,321456)\n",
    "print(Ac1.balance)\n",
    "print(Ac1.AccNo)\n",
    "\n",
    "Ac1.credit(100)\n",
    "Ac1.debit(232)\n",
    "\n"
   ]
  }
 ],
 "metadata": {
  "kernelspec": {
   "display_name": "Python 3",
   "language": "python",
   "name": "python3"
  },
  "language_info": {
   "codemirror_mode": {
    "name": "ipython",
    "version": 3
   },
   "file_extension": ".py",
   "mimetype": "text/x-python",
   "name": "python",
   "nbconvert_exporter": "python",
   "pygments_lexer": "ipython3",
   "version": "3.13.1"
  }
 },
 "nbformat": 4,
 "nbformat_minor": 2
}
