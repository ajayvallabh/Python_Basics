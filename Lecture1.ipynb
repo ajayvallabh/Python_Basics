{
 "cells": [
  {
   "cell_type": "markdown",
   "metadata": {},
   "source": [
    "Hello Word Program"
   ]
  },
  {
   "cell_type": "code",
   "execution_count": 4,
   "metadata": {},
   "outputs": [
    {
     "name": "stdout",
     "output_type": "stream",
     "text": [
      "Ajay is my name. My age is 30.\n",
      "23\n",
      "35\n"
     ]
    }
   ],
   "source": [
    "print(\"Ajay is my name.\", \"My age is 30.\") \n",
    "print(23)\n",
    "print(23+12)"
   ]
  },
  {
   "cell_type": "markdown",
   "metadata": {},
   "source": [
    "Variables: A variable is a name given to a memory loation in a program\n",
    "name = \"Ajay\" \n",
    "age = 30\n",
    "price = 25.99\n"
   ]
  },
  {
   "cell_type": "code",
   "execution_count": 11,
   "metadata": {},
   "outputs": [
    {
     "name": "stdout",
     "output_type": "stream",
     "text": [
      "name\n",
      "Ajay\n",
      "My name is :  Ajay\n",
      "My age is : 30\n"
     ]
    }
   ],
   "source": [
    "name = \"Ajay\" # string\n",
    "age = 30 # integer varible\n",
    "age2 =age \n",
    "price = 25.99 # floating value\n",
    "print(\"name\")\n",
    "print(name)\n",
    "print(\"My name is : \", name)\n",
    "print(\"My age is :\", age2)"
   ]
  },
  {
   "cell_type": "markdown",
   "metadata": {},
   "source": [
    "Rules for identifier \n",
    "* Identifiers can be combination of upercase and lowercase letters, digits or an underscore (_). So my variable, variable_1, variable_for_print all are valid python identifiers.\n",
    "* An identifier can not start with digits. So while variable1 is valid, 1variable is not valid.\n",
    "* We can't use special symbols like !, #, @, %, $ etc in our Identifier.\n",
    "* Identifer can be of any length"
   ]
  },
  {
   "cell_type": "code",
   "execution_count": 13,
   "metadata": {},
   "outputs": [
    {
     "name": "stdout",
     "output_type": "stream",
     "text": [
      "<class 'str'>\n",
      "<class 'int'>\n",
      "<class 'float'>\n"
     ]
    }
   ],
   "source": [
    "print(type(name))\n",
    "print(type(age))\n",
    "print(type(price))"
   ]
  },
  {
   "cell_type": "markdown",
   "metadata": {},
   "source": [
    "Data types in python\n",
    "* Integer +ve, -ve, 0 whole values\n",
    "* String  \"Ajay\" \"Hello\"\n",
    "* Float 3.99, 2.5, 9.0\n",
    "* Boolean True False\n",
    "* None a= none"
   ]
  },
  {
   "cell_type": "code",
   "execution_count": 14,
   "metadata": {},
   "outputs": [
    {
     "name": "stdout",
     "output_type": "stream",
     "text": [
      "Aj\n",
      "Aj\n",
      "Aj\n"
     ]
    }
   ],
   "source": [
    "name1 = \"Aj\"\n",
    "name2 = 'Aj'\n",
    "name3 = '''Aj'''\n",
    "\n",
    "print(name1)\n",
    "print(name2)\n",
    "print(name3)"
   ]
  },
  {
   "cell_type": "code",
   "execution_count": 15,
   "metadata": {},
   "outputs": [
    {
     "name": "stdout",
     "output_type": "stream",
     "text": [
      "<class 'bool'>\n",
      "<class 'NoneType'>\n"
     ]
    }
   ],
   "source": [
    "# Boolean Variable\n",
    "\n",
    "age = 30\n",
    "old = False\n",
    "a = None # None variable is case sensitive\n",
    "print(type(old))\n",
    "print(type(a))"
   ]
  },
  {
   "cell_type": "markdown",
   "metadata": {},
   "source": [
    "Keywords: keywords are researved words in python. \n",
    "\n",
    "Python is case sensitive language\n",
    "\n",
    "and, else, in , return\n",
    "as, except, is m True\n",
    "assert, finally, lambda, try\n",
    "break, False, nonlocal, with\n",
    "class, for, None, while\n",
    "continue, from, not, yield\n",
    "def, global, or,\n",
    "del, if, pass\n",
    "elif, import, raise"
   ]
  },
  {
   "cell_type": "code",
   "execution_count": 17,
   "metadata": {},
   "outputs": [
    {
     "name": "stdout",
     "output_type": "stream",
     "text": [
      "7\n"
     ]
    }
   ],
   "source": [
    "# Print sum of two number\n",
    "a = 2\n",
    "b = 5\n",
    "sum = a+b \n",
    "print(sum) "
   ]
  },
  {
   "cell_type": "markdown",
   "metadata": {},
   "source": [
    "Comments in python\n",
    "# signle line Comment\n",
    "\n",
    "\"\"\"\n",
    "Multi Line\n",
    "Comments \n",
    "\"\"\""
   ]
  },
  {
   "cell_type": "code",
   "execution_count": 21,
   "metadata": {},
   "outputs": [
    {
     "name": "stdout",
     "output_type": "stream",
     "text": [
      "Hello world\n"
     ]
    }
   ],
   "source": [
    "print(\"Hello world\")\n",
    "# print(\"Hello world\")\n"
   ]
  },
  {
   "cell_type": "markdown",
   "metadata": {},
   "source": [
    "Types of Operators\n",
    "\n",
    "An operator is the symbol that performs a certain operation between operands.\n",
    "\n",
    "* Arithmetic Operators (+, -, *, /, %, **)\n",
    "* Relational / Comparison Operators ( ==, !=, >, <, >=, <= )\n",
    "* Assignment Operators ( =, +=,-=, *=,/=, %=, **= )\n",
    "* Logical Operators (not, and, or)"
   ]
  },
  {
   "cell_type": "code",
   "execution_count": 26,
   "metadata": {},
   "outputs": [
    {
     "name": "stdout",
     "output_type": "stream",
     "text": [
      "7\n",
      "3\n",
      "10\n",
      "2.5\n",
      "1\n",
      "25\n"
     ]
    }
   ],
   "source": [
    "# Arithmetic Operators\n",
    "a = 5\n",
    "b = 2\n",
    "\n",
    "sum = a + b\n",
    "print(sum)\n",
    "print(a-b)\n",
    "print(a*b)\n",
    "print(a/b)\n",
    "print(a%b) # modular operator to find out reminder\n",
    "print(a**b) # power operators"
   ]
  },
  {
   "cell_type": "code",
   "execution_count": 31,
   "metadata": {},
   "outputs": [
    {
     "name": "stdout",
     "output_type": "stream",
     "text": [
      "False\n",
      "True\n",
      "True\n",
      "False\n",
      "False\n"
     ]
    }
   ],
   "source": [
    "# Relational operators\n",
    "a = 50\n",
    "b = 20\n",
    "print(a == b) # value will return back as a true or false\n",
    "print(a != b)\n",
    "print(a >= b)\n",
    "print(a <= b)\n",
    "print(a<b)"
   ]
  },
  {
   "cell_type": "code",
   "execution_count": 36,
   "metadata": {},
   "outputs": [
    {
     "name": "stdout",
     "output_type": "stream",
     "text": [
      "num : 0\n"
     ]
    }
   ],
   "source": [
    "# Assignment operators\n",
    "num = 10\n",
    "num += 10 # 10 + 10\n",
    "num *= 5\n",
    "num %= 10\n",
    "print(\"num :\", num)"
   ]
  },
  {
   "cell_type": "code",
   "execution_count": 42,
   "metadata": {},
   "outputs": [
    {
     "name": "stdout",
     "output_type": "stream",
     "text": [
      "True\n",
      "False\n",
      "False\n",
      "AND operator: False\n",
      "OR operator: True\n"
     ]
    }
   ],
   "source": [
    "# Logical Operators\n",
    "a = 50\n",
    "b = 30\n",
    "print(not False)\n",
    "print(not True)\n",
    "print(not (a > b))\n",
    "val1 = True\n",
    "val2 = False\n",
    "print(\"AND operator:\", val1 and val2)\n",
    "print(\"OR operator:\" , (a==b) or (a>b))"
   ]
  },
  {
   "cell_type": "markdown",
   "metadata": {},
   "source": [
    "Type conversion\n",
    "a,b = 1, 2.0\n",
    "sum = a + b\n",
    "\n",
    "# error\n",
    "a,b = 1, \"2\"\n",
    "sum =a+b"
   ]
  },
  {
   "cell_type": "code",
   "execution_count": null,
   "metadata": {},
   "outputs": [
    {
     "name": "stdout",
     "output_type": "stream",
     "text": [
      "6.25\n"
     ]
    }
   ],
   "source": [
    "# Type conversion\n",
    "a = 2\n",
    "b = 4.25\n",
    "\n",
    "sum = a + b # 2.0 + 4.25\n",
    "print(sum)"
   ]
  },
  {
   "cell_type": "markdown",
   "metadata": {},
   "source": [
    "Type Casting\n",
    "\n",
    "a,b = 1, \"2\"\n",
    "c = int(b)\n",
    "sum = a+c"
   ]
  },
  {
   "cell_type": "code",
   "execution_count": 44,
   "metadata": {},
   "outputs": [
    {
     "name": "stdout",
     "output_type": "stream",
     "text": [
      "<class 'int'>\n",
      "6.25\n"
     ]
    }
   ],
   "source": [
    "# Type casting\n",
    "a = int(\"2\")\n",
    "b = 4.25\n",
    "\n",
    "print(type(a))\n",
    "print(a+b)"
   ]
  },
  {
   "cell_type": "markdown",
   "metadata": {},
   "source": [
    "Input  in Python\n",
    "input()statement is used to accept values (using keybord) from user\n",
    "\n",
    "input() # result for input( is always a str)\n",
    "\n",
    "int((input)) # int\n",
    "\n",
    "float(input()) # float"
   ]
  },
  {
   "cell_type": "code",
   "execution_count": null,
   "metadata": {},
   "outputs": [
    {
     "name": "stdout",
     "output_type": "stream",
     "text": [
      "Welcome Ajay Vallabh\n"
     ]
    }
   ],
   "source": [
    "# Input statement\n",
    "name = input(\"enter your name: \") # input values are string in nature so we have to convert them into integer or float, if we are using them\n",
    "print(\"Welcome\", name)"
   ]
  },
  {
   "cell_type": "code",
   "execution_count": 50,
   "metadata": {},
   "outputs": [
    {
     "name": "stdout",
     "output_type": "stream",
     "text": [
      "<class 'int'> 23\n"
     ]
    }
   ],
   "source": [
    "val = int(input(\"enter some value: \"))\n",
    "print(type(val), val) # \"25\", \"99.99\""
   ]
  },
  {
   "cell_type": "markdown",
   "metadata": {},
   "source": [
    "* Practice Question\n",
    "Write the program to input 2 numbers & print thier sum"
   ]
  },
  {
   "cell_type": "code",
   "execution_count": 51,
   "metadata": {},
   "outputs": [
    {
     "name": "stdout",
     "output_type": "stream",
     "text": [
      "sum =  30\n"
     ]
    }
   ],
   "source": [
    "first = int(input(\"Enter the number 1\"))\n",
    "second = int(input(\"Enter the number 2\"))\n",
    "\n",
    "print(\"sum = \",first + second)"
   ]
  },
  {
   "cell_type": "markdown",
   "metadata": {},
   "source": [
    "* Practice Question 2\n",
    "WAP to input side of a square & print its area"
   ]
  },
  {
   "cell_type": "code",
   "execution_count": 52,
   "metadata": {},
   "outputs": [
    {
     "name": "stdout",
     "output_type": "stream",
     "text": [
      "100.0\n"
     ]
    }
   ],
   "source": [
    "# Square area program\n",
    "s = float(input(\" enter the value of square side\"))\n",
    "area = s**2 # aere of square\n",
    "print(area)"
   ]
  },
  {
   "cell_type": "markdown",
   "metadata": {},
   "source": [
    "* Practice\n",
    "WAP to input 2 int numbers, a nad b\n",
    "Print True if a is greater than or equal to b if not print False"
   ]
  },
  {
   "cell_type": "code",
   "execution_count": 53,
   "metadata": {},
   "outputs": [
    {
     "name": "stdout",
     "output_type": "stream",
     "text": [
      "True\n"
     ]
    }
   ],
   "source": [
    "a = int(input(\"enter the value of a\"))\n",
    "b = int(input(\"enter the value of b\"))\n",
    "\n",
    "print(a>=b)"
   ]
  }
 ],
 "metadata": {
  "kernelspec": {
   "display_name": "Python 3",
   "language": "python",
   "name": "python3"
  },
  "language_info": {
   "codemirror_mode": {
    "name": "ipython",
    "version": 3
   },
   "file_extension": ".py",
   "mimetype": "text/x-python",
   "name": "python",
   "nbconvert_exporter": "python",
   "pygments_lexer": "ipython3",
   "version": "3.13.1"
  }
 },
 "nbformat": 4,
 "nbformat_minor": 2
}
