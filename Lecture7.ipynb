{
 "cells": [
  {
   "cell_type": "markdown",
   "metadata": {},
   "source": [
    "File I/O\n",
    "\n",
    "Type of all files\n",
    "\n",
    "* Text Files: .txt, .docx, .log etc.\n",
    "\n",
    "* Binary Files: .mp4, .mov, .png, .jpeg etc.\n"
   ]
  },
  {
   "cell_type": "markdown",
   "metadata": {},
   "source": [
    "Open, read & close File\n",
    "\n",
    "we have to open a file before reading or writing.\n",
    "\n",
    "f = open(\"file_name\", \"mode\")\n",
    "\n",
    "file_name - sample.txt, demo.docx\n",
    "mode - 'r': read mode (default)\n",
    "       'w': write mode, truncating the file first\n",
    "       'x': create a new file and open it for writing\n",
    "       'a': open for writing, appending to the end of the file if it exists\n",
    "       'b': binary mode\n",
    "       't': text mode (default)\n",
    "       '+': open a disk file for updating (read and writing)\n",
    "       'r+': Open for reading and writing. The stream is positioned at the beginning of the file.\n",
    "       'w+': Open for reading and writing. The file is created if it does not exist, otherwise it is truncated. The stream is positioned at the beggining of the file. \n",
    "       'a+': read + append (pointer is at the end), and no truncation."
   ]
  },
  {
   "cell_type": "code",
   "execution_count": 3,
   "metadata": {},
   "outputs": [
    {
     "name": "stdout",
     "output_type": "stream",
     "text": [
      "I am learning python\n",
      "Instructor is very intelligent\n"
     ]
    }
   ],
   "source": [
    "f = open(\"demo.txt\", \"r\")\n",
    "data = f.read()\n",
    "print(data)\n",
    "f.close()"
   ]
  },
  {
   "cell_type": "markdown",
   "metadata": {},
   "source": [
    "Reading a file\n",
    "\n",
    "data = f.read()  # reads entire file\n",
    "\n",
    "data = f.readline() # reads one line at a time"
   ]
  },
  {
   "cell_type": "code",
   "execution_count": 6,
   "metadata": {},
   "outputs": [
    {
     "name": "stdout",
     "output_type": "stream",
     "text": [
      "I am learning python\n",
      "\n",
      "Instructor is very intelligent\n"
     ]
    }
   ],
   "source": [
    "f = open(\"demo.txt\", \"r\")\n",
    "line1 = f.readline()\n",
    "print(line1)\n",
    "\n",
    "line2 = f.readline()\n",
    "print(line2)\n",
    "f.close()"
   ]
  },
  {
   "cell_type": "markdown",
   "metadata": {},
   "source": [
    "writing to a file\n",
    "\n",
    "f = open(\"demo.txt\", \"w\")\n",
    "f.write(\"this is a new line\")  # overwrites the entire file \n",
    "\n",
    "f= open(\"demo.txt\",\"a\")\n",
    "f.write(\"this is a new line\") # adds to the file"
   ]
  },
  {
   "cell_type": "code",
   "execution_count": 10,
   "metadata": {},
   "outputs": [],
   "source": [
    "f = open(\"demo.txt\", \"a\")\n",
    "\n",
    "f.write(\"\\n I wan to learn ML from UPRM tomorrow\")\n",
    "\n",
    "f.close()"
   ]
  },
  {
   "cell_type": "code",
   "execution_count": 12,
   "metadata": {},
   "outputs": [],
   "source": [
    "# I can also create file  in write mode\n",
    "f = open(\"Sample.txt\", \"a\")\n",
    "f.close()"
   ]
  },
  {
   "cell_type": "code",
   "execution_count": 16,
   "metadata": {},
   "outputs": [
    {
     "name": "stdout",
     "output_type": "stream",
     "text": [
      "an to learn Python from UNHI wan to learn Python from UPRM tomorrow\n",
      " I wan to learn ML from UPRM tomorrow\n"
     ]
    }
   ],
   "source": [
    "f = open(\"demo.txt\", \"r+\") # here r+ overwrite the file in the beggining of line\n",
    "f.write(\"abc\") \n",
    "print(f.read())\n",
    "f.close()"
   ]
  },
  {
   "cell_type": "markdown",
   "metadata": {},
   "source": [
    "with Syntax\n",
    "\n",
    "with open(\"demo.txt\", \"a\") as f:\n",
    "        data = f.read()"
   ]
  },
  {
   "cell_type": "code",
   "execution_count": 20,
   "metadata": {},
   "outputs": [
    {
     "name": "stdout",
     "output_type": "stream",
     "text": [
      "New Data\n"
     ]
    }
   ],
   "source": [
    "with open(\"demo.txt\", \"r\") as f:\n",
    "    data = f.read()\n",
    "    print(data)\n",
    "    \n",
    "with open(\"demo.txt\", \"w\") as f:\n",
    "    data = f.write(\"New Data\")\n",
    "    "
   ]
  },
  {
   "cell_type": "markdown",
   "metadata": {},
   "source": [
    "Deleting a file:\n",
    "\n",
    "using the os module\n",
    "\n",
    "Module (like a code library) is a file written by another programmer that generally has a functions we can use.\n",
    "\n",
    "* import os\n",
    "\n",
    "os.remove(filename)\n"
   ]
  },
  {
   "cell_type": "code",
   "execution_count": null,
   "metadata": {},
   "outputs": [],
   "source": [
    "import os\n",
    "os.remove(\"Sample.txt\") # this command is used to delete the file"
   ]
  },
  {
   "cell_type": "markdown",
   "metadata": {},
   "source": [
    "* Practice\n",
    "\n",
    "Create a new file \"practice.txt\" using python. Add the following data in it:\n"
   ]
  },
  {
   "cell_type": "code",
   "execution_count": 30,
   "metadata": {},
   "outputs": [],
   "source": [
    "with open(\"practice.txt\", \"w\") as f:\n",
    "    f.write(\"Hi everyone \\n we are learning File I/O \\n\")\n",
    "    f.write(\"using Java. \\n I like programming in Java.\")\n",
    "    "
   ]
  },
  {
   "cell_type": "markdown",
   "metadata": {},
   "source": [
    "Write a function that replaces all the occurences of \"java\" with \"python\" in above file."
   ]
  },
  {
   "cell_type": "code",
   "execution_count": 34,
   "metadata": {},
   "outputs": [
    {
     "name": "stdout",
     "output_type": "stream",
     "text": [
      "Hi everyone \n",
      " we are learning File I/O \n",
      "using Python. \n",
      " I like programming in Python.\n"
     ]
    }
   ],
   "source": [
    "with open(\"practice.txt\", \"r\") as f:\n",
    "    data = f.read()\n",
    "    \n",
    "new_data = data.replace(\"Java\", \"Python\")\n",
    "print(new_data)\n",
    "\n",
    "with open(\"practice.txt\", \"w\") as f:\n",
    "    data = f.write(new_data)"
   ]
  },
  {
   "cell_type": "markdown",
   "metadata": {},
   "source": [
    "Search is the word learning exist in the file or not"
   ]
  },
  {
   "cell_type": "code",
   "execution_count": 35,
   "metadata": {},
   "outputs": [
    {
     "name": "stdout",
     "output_type": "stream",
     "text": [
      "Found\n"
     ]
    }
   ],
   "source": [
    "word =\"learning\"\n",
    "with open(\"practice.txt\", \"r\") as f:\n",
    "    data = f.read()\n",
    "    if(data.find(word) !=-1):\n",
    "        print(\"Found\")\n",
    "    else:\n",
    "        print(\"Not found\")"
   ]
  },
  {
   "cell_type": "code",
   "execution_count": null,
   "metadata": {},
   "outputs": [
    {
     "name": "stdout",
     "output_type": "stream",
     "text": [
      "2\n"
     ]
    }
   ],
   "source": [
    "def check_for_line():\n",
    "    word = \"learning\"\n",
    "    line_number = 1\n",
    "    data = True # means data have real value. there is no empty string\n",
    "    with open(\"practice.txt\",\"r\") as f:\n",
    "        while data:   # this loop will run till real values are store.\n",
    "            data = f.readline()\n",
    "            if(word in data): \n",
    "                print(line_number)\n",
    "                return\n",
    "            line_number += 1\n",
    "    \n",
    "    return -1\n",
    "\n",
    "check_for_line() # calling the function"
   ]
  },
  {
   "cell_type": "code",
   "execution_count": 39,
   "metadata": {},
   "outputs": [],
   "source": [
    "# WAP to find in which line of the file does the word \"learning\" occur first.\n",
    "# Print -1 if word not found.\n",
    "with open(\"number.txt\", \"w\") as f:\n",
    "    f.write(\"1, 2, 76, 84, 90, 101\")"
   ]
  },
  {
   "cell_type": "code",
   "execution_count": 42,
   "metadata": {},
   "outputs": [
    {
     "name": "stdout",
     "output_type": "stream",
     "text": [
      "1, 2, 76, 84, 90, 101\n",
      "1\n",
      "2\n",
      "76\n",
      "84\n",
      "90\n"
     ]
    }
   ],
   "source": [
    "with open(\"number.txt\", \"r\") as f:\n",
    "    data = f.read()\n",
    "    print(data)\n",
    "    \n",
    "    num = \"\"\n",
    "    for i in range(len(data)):\n",
    "        if(data[i]==\",\"):\n",
    "            print(int(num))\n",
    "            num = \"\"\n",
    "        else:\n",
    "            num += data[i]      \n"
   ]
  },
  {
   "cell_type": "code",
   "execution_count": 45,
   "metadata": {},
   "outputs": [
    {
     "name": "stdout",
     "output_type": "stream",
     "text": [
      "1, 2, 76, 84, 90, 101\n",
      "Even value is  2\n",
      "Even value is  76\n",
      "Even value is  84\n",
      "Even value is  90\n",
      "Total count of even number is 4\n"
     ]
    }
   ],
   "source": [
    "count = 0\n",
    "with open(\"number.txt\", \"r\") as f:\n",
    "    data = f.read()\n",
    "    print(data)\n",
    "    \n",
    "    nums = data.split(\",\")\n",
    "    for val in nums:\n",
    "        if(int(val)%2 ==0):\n",
    "            count += 1\n",
    "            print(\"Even value is\", val)\n",
    "print(\"Total count of even number is\", count)"
   ]
  }
 ],
 "metadata": {
  "kernelspec": {
   "display_name": "Python 3",
   "language": "python",
   "name": "python3"
  },
  "language_info": {
   "codemirror_mode": {
    "name": "ipython",
    "version": 3
   },
   "file_extension": ".py",
   "mimetype": "text/x-python",
   "name": "python",
   "nbconvert_exporter": "python",
   "pygments_lexer": "ipython3",
   "version": "3.13.1"
  }
 },
 "nbformat": 4,
 "nbformat_minor": 2
}
