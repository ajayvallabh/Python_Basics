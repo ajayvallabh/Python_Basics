{
 "cells": [
  {
   "cell_type": "markdown",
   "metadata": {},
   "source": [
    "Del Keyword\n",
    "\n",
    "Used to delete object properties or object itself.\n",
    "\n",
    "del s1.name\n",
    "del s1"
   ]
  },
  {
   "cell_type": "code",
   "execution_count": null,
   "metadata": {},
   "outputs": [
    {
     "name": "stdout",
     "output_type": "stream",
     "text": [
      "Shradha\n"
     ]
    }
   ],
   "source": [
    "class Student:\n",
    "    def __init__(self, name):\n",
    "        self.name = name\n",
    "\n",
    "s1 = Student(\"Shradha\")\n",
    "\n",
    "print(s1.name)\n",
    "del s1\n",
    "# print(s1.name)"
   ]
  },
  {
   "cell_type": "markdown",
   "metadata": {},
   "source": [
    "Private attributes & methods\n",
    "* Conceptual implementation in Python\n",
    "Private attributes & methods are meant to be used only within the class are not accessible from outside the class\n"
   ]
  },
  {
   "cell_type": "code",
   "execution_count": 7,
   "metadata": {},
   "outputs": [
    {
     "name": "stdout",
     "output_type": "stream",
     "text": [
      "1234\n",
      "qwert\n"
     ]
    }
   ],
   "source": [
    "class Accounnt:\n",
    "    def __init__(self, acc_no, acc_pass):\n",
    "        self.acc_no = acc_no\n",
    "        self.__acc_pass = acc_pass    # __ are used to make the attribute private \"__acc_no\"\n",
    "     \n",
    "    def reset_pass(self):\n",
    "        print(self.__acc_pass)      \n",
    "     \n",
    "     \n",
    "# object        \n",
    "acc1 = Accounnt(\"1234\",\"qwert\")\n",
    "print(acc1.acc_no)\n",
    "acc1.reset_pass()"
   ]
  },
  {
   "cell_type": "code",
   "execution_count": 15,
   "metadata": {},
   "outputs": [
    {
     "name": "stdout",
     "output_type": "stream",
     "text": [
      "hello person! Ajay\n"
     ]
    }
   ],
   "source": [
    "class Person: \n",
    "    __name = \"Ajay\"\n",
    "    \n",
    "    def __hello(self):\n",
    "        print(\"hello person!\", self.__name)\n",
    "        \n",
    "    def welcome(self):\n",
    "        self.__hello()\n",
    "        \n",
    "p1 = Person()\n",
    "\n",
    "p1.welcome()"
   ]
  },
  {
   "cell_type": "markdown",
   "metadata": {},
   "source": [
    "* Ihneritance\n",
    "\n",
    "When one class(child/derived) derives the properties & methods of another class(parent/base).\n",
    "\n",
    "class Car:  # parent class\n",
    "  ...\n",
    "\n",
    "\n",
    "class ToyotaCar(Car):  # Child class\n",
    "  ...\n"
   ]
  },
  {
   "cell_type": "code",
   "execution_count": 18,
   "metadata": {},
   "outputs": [
    {
     "name": "stdout",
     "output_type": "stream",
     "text": [
      "car started ..\n"
     ]
    },
    {
     "data": {
      "text/plain": [
       "'black'"
      ]
     },
     "execution_count": 18,
     "metadata": {},
     "output_type": "execute_result"
    }
   ],
   "source": [
    "class Car:\n",
    "    @staticmethod\n",
    "    def start():\n",
    "        print(\"car started ..\")\n",
    "        \n",
    "    @staticmethod\n",
    "    def stop():\n",
    "        print(\"car stoped.\")\n",
    "        \n",
    "class Toyota(Car):\n",
    "    color = \"black\"\n",
    "    def __init__(self, name):\n",
    "        self.name = name\n",
    "        \n",
    "        \n",
    "# Object\n",
    "\n",
    "car1 = Toyota(\"Fortuner\")\n",
    "car2 = Toyota(\"prius\")\n",
    "\n",
    "car1.start()\n",
    "car1.color\n"
   ]
  },
  {
   "cell_type": "markdown",
   "metadata": {},
   "source": [
    "Inheritance are three different types\n",
    "\n",
    "* Single Inheritance\n",
    "* Multi-level Inheritance\n",
    "* Multiple Inheritance\n"
   ]
  },
  {
   "cell_type": "code",
   "execution_count": 19,
   "metadata": {},
   "outputs": [
    {
     "name": "stdout",
     "output_type": "stream",
     "text": [
      "car started ..\n"
     ]
    }
   ],
   "source": [
    "# Multi-level Inheritance\n",
    "\n",
    "class Car:\n",
    "    @staticmethod\n",
    "    def start():\n",
    "        print(\"car started ..\")\n",
    "        \n",
    "    @staticmethod\n",
    "    def stop():\n",
    "        print(\"car stoped.\")\n",
    "        \n",
    "class Toyota(Car):\n",
    "    def __init__(self, brand):\n",
    "        self.brand = brand\n",
    "        \n",
    "class Fortuner(Toyota):\n",
    "    def __init__(self, type):\n",
    "        self.type = type\n",
    "        \n",
    "        \n",
    "# Object\n",
    "\n",
    "car1 = Fortuner(\"diesel\")\n",
    "car1.start()\n"
   ]
  },
  {
   "cell_type": "code",
   "execution_count": 20,
   "metadata": {},
   "outputs": [
    {
     "name": "stdout",
     "output_type": "stream",
     "text": [
      "welcome to class C\n",
      "welcome to class B\n",
      "welcome to class A\n"
     ]
    }
   ],
   "source": [
    "# Multiple Inheritance\n",
    "\n",
    "class A:\n",
    "    varA = \"welcome to class A\"\n",
    "    \n",
    "class B:\n",
    "    varB = \"welcome to class B\"\n",
    "    \n",
    "class C(A, B):\n",
    "    varC = \"welcome to class C\"\n",
    "    \n",
    "c1 = C() \n",
    "print(c1.varC)\n",
    "print(c1.varB)\n",
    "print(c1.varA)"
   ]
  },
  {
   "cell_type": "markdown",
   "metadata": {},
   "source": [
    "# Super Method\n",
    "\n",
    "super method is used to access methods of partent class.\n"
   ]
  },
  {
   "cell_type": "code",
   "execution_count": null,
   "metadata": {},
   "outputs": [
    {
     "name": "stdout",
     "output_type": "stream",
     "text": [
      "car started ..\n",
      "electric\n"
     ]
    }
   ],
   "source": [
    "class Car:\n",
    "    def __init__(self, type):\n",
    "        self.type = type\n",
    "        \n",
    "        \n",
    "    @staticmethod\n",
    "    def start():\n",
    "        print(\"car started ..\")\n",
    "        \n",
    "    @staticmethod\n",
    "    def stop():\n",
    "        print(\"car stoped.\")\n",
    "        \n",
    "class Toyota(Car):\n",
    "    color = \"black\"\n",
    "    def __init__(self, name, type):\n",
    "        super().__init__(type)  # super() is used to access the values from parent class\n",
    "        self.name = name\n",
    "        super().start()\n",
    "        \n",
    "# Object\n",
    "\n",
    "car1 = Toyota(\"Fortuner\",\"electric\")\n",
    "print(car1.type)\n"
   ]
  },
  {
   "cell_type": "markdown",
   "metadata": {},
   "source": [
    "# Class method\n",
    "A class method is bound to the class & recieves the class as an implicit first argument.\n",
    "\n",
    "Note- static method can't access or modify class state & generally for utility.\n",
    "\n",
    "class Student:\n",
    "@ classmethod # decorator\n",
    "def college(cls):\n",
    "    pass"
   ]
  },
  {
   "cell_type": "code",
   "execution_count": 29,
   "metadata": {},
   "outputs": [
    {
     "name": "stdout",
     "output_type": "stream",
     "text": [
      "Rahul\n",
      "Rahul\n"
     ]
    }
   ],
   "source": [
    "class Person:\n",
    "    name = \"Anonymous\"\n",
    "    \n",
    "    def changeName(self, name):\n",
    "        #self.name = name\n",
    "        self.__class__.name = \"Rahul\"\n",
    "\n",
    "p1 = Person()\n",
    "p1.changeName(\"Ajay Vallabh\")\n",
    "print(p1.name)\n",
    "print(Person.name)"
   ]
  },
  {
   "cell_type": "code",
   "execution_count": 30,
   "metadata": {},
   "outputs": [
    {
     "name": "stdout",
     "output_type": "stream",
     "text": [
      "Ajay Vallabh\n"
     ]
    }
   ],
   "source": [
    "class Person:\n",
    "    name = \"Anonymous\"\n",
    "    @classmethod\n",
    "    \n",
    "    def changeName(cls, name):\n",
    "        cls.name = name\n",
    "\n",
    "p1 = Person()\n",
    "p1.changeName(\"Ajay Vallabh\")\n",
    "print(p1.name)\n"
   ]
  },
  {
   "cell_type": "markdown",
   "metadata": {},
   "source": [
    "* Static methods\n",
    "* class methods (cls)\n",
    "* instance methods (self)"
   ]
  },
  {
   "cell_type": "code",
   "execution_count": 37,
   "metadata": {},
   "outputs": [
    {
     "name": "stdout",
     "output_type": "stream",
     "text": [
      "85.33333333333333%\n",
      "86\n",
      "84.0%\n"
     ]
    }
   ],
   "source": [
    "class Student:\n",
    "    def __init__(self, phy, chem, math):\n",
    "        self.phy = phy\n",
    "        self.chem = chem\n",
    "        self.math = math\n",
    "        self.percentage = str((self.phy + self.chem + self.math)/3) + \"%\"\n",
    "        \n",
    "    def calcPercentage(self):\n",
    "       self.percentage = str((self.phy + self.chem + self.math)/3) + \"%\" \n",
    "        \n",
    "# Object\n",
    "\n",
    "stu1 = Student(90, 78, 88)\n",
    "print(stu1.percentage)\n",
    "\n",
    "stu1.phy = 86\n",
    "print(stu1.phy)\n",
    "stu1.calcPercentage()\n",
    "print(stu1.percentage)\n"
   ]
  },
  {
   "cell_type": "markdown",
   "metadata": {},
   "source": [
    "we can use @property decorator on any method in the class to use the method as a property.\n"
   ]
  },
  {
   "cell_type": "code",
   "execution_count": 44,
   "metadata": {},
   "outputs": [
    {
     "name": "stdout",
     "output_type": "stream",
     "text": [
      "86.0%\n",
      "84.66666666666667%\n"
     ]
    }
   ],
   "source": [
    "class Student:\n",
    "    def __init__(self, phy, chem, math):\n",
    "        self.phy = phy\n",
    "        self.chem = chem\n",
    "        self.math = math\n",
    "        \n",
    "    @property\n",
    "    def percentage(self):\n",
    "        return str((self.phy + self.chem + self.math)/3) + \"%\" \n",
    "        \n",
    "# Object\n",
    "\n",
    "stu1 = Student(90, 80, 88)\n",
    "print(stu1.percentage)\n",
    "\n",
    "stu1.phy = 86\n",
    "print(stu1.percentage)\n"
   ]
  },
  {
   "cell_type": "markdown",
   "metadata": {},
   "source": [
    "# Polymorphism : operator Overloading\n",
    "\n",
    "when the same operator is allowed to have different meaning according to the context\n",
    "\n",
    "# Operators & Dunder functions\n",
    "\n",
    "a+b # addition        a.__add__(b)\n",
    "a-b # subtraction     a.__sub__(b)\n",
    "a*b # multiplication  a.__mul__(b)\n",
    "a/b # division        a.__truediv__(b)\n",
    "a%b # empercentage    a.__mod__(b)\n",
    "\n"
   ]
  },
  {
   "cell_type": "code",
   "execution_count": null,
   "metadata": {},
   "outputs": [
    {
     "name": "stdout",
     "output_type": "stream",
     "text": [
      "3\n",
      "IITKanpur\n",
      "[1, 2, 3, 4, 5, 6]\n"
     ]
    }
   ],
   "source": [
    "# Polymorphism\n",
    "\n",
    "# implisit Overloading\n",
    "\n",
    "print(1+2)  # 3\n",
    "print(\"IIT\"+\"Kanpur\")  # concatination\n",
    "print([1,2,3]+[4,5,6]) # merge\n",
    "\n",
    "# here +  operator is used for addition, concatination, and merge. it means + operator is overloaeded."
   ]
  },
  {
   "cell_type": "code",
   "execution_count": 55,
   "metadata": {},
   "outputs": [
    {
     "name": "stdout",
     "output_type": "stream",
     "text": [
      "1 i + 3 j\n",
      "4 i + 6 j\n",
      "5 i + 9 j\n",
      "-3 i + -3 j\n"
     ]
    }
   ],
   "source": [
    "# Complex number\n",
    "\n",
    "class Complex:\n",
    "    def __init__(self, real, img):\n",
    "        self.real = real\n",
    "        self.img = img\n",
    "        \n",
    "    def showNumber(self):\n",
    "        print(self.real,\"i +\", self.img, \"j\")\n",
    "        \n",
    "    def __add__(self, num2):\n",
    "        new_real = self.real + num2.real\n",
    "        new_img = self.img + num2.img\n",
    "        return Complex(new_real, new_img)\n",
    "    def __sub__(self, num2):\n",
    "        new_real = self.real - num2.real\n",
    "        new_img = self.img - num2.img\n",
    "        return Complex(new_real, new_img)\n",
    "\n",
    "# Object\n",
    "\n",
    "num1 = Complex(1, 3)\n",
    "num1.showNumber()         \n",
    "\n",
    "num2 = Complex(4, 6)\n",
    "num2.showNumber()    \n",
    "\n",
    "num3 = num1+num2    \n",
    "num3.showNumber()\n",
    "\n",
    "num3 = num1-num2    \n",
    "num3.showNumber()"
   ]
  },
  {
   "cell_type": "markdown",
   "metadata": {},
   "source": [
    "Practice Question\n",
    "\n",
    "Define the Circle class to create a circle with radius r using the constructor.\n",
    "\n",
    "Define an Area() method of the class which calculate the area of the circle.\n",
    "Define a Perimeter() method of the class which allows to calculate the perimeter of the circle.\n",
    "\n"
   ]
  },
  {
   "cell_type": "code",
   "execution_count": 64,
   "metadata": {},
   "outputs": [
    {
     "name": "stdout",
     "output_type": "stream",
     "text": [
      "1386.0\n",
      "132.0\n"
     ]
    }
   ],
   "source": [
    "class Circle:\n",
    "    def __init__(self, radius):\n",
    "        self.radius = radius\n",
    "    \n",
    "    def area(self):\n",
    "        return((22/7)*self.radius**2)\n",
    "\n",
    "    \n",
    "    def perimeter(self):\n",
    "        P = 2*(22/7)* self.radius\n",
    "        return P\n",
    "        \n",
    "\n",
    "\n",
    "c1 = Circle(21)\n",
    "print(c1.area())\n",
    "print(c1.perimeter())"
   ]
  },
  {
   "cell_type": "markdown",
   "metadata": {},
   "source": [
    "Define a Employee class with attribute role, department and salary. This class also show detail method"
   ]
  },
  {
   "cell_type": "code",
   "execution_count": 70,
   "metadata": {},
   "outputs": [
    {
     "name": "stdout",
     "output_type": "stream",
     "text": [
      "role Engineer\n",
      "department IT\n",
      "salary 75000\n"
     ]
    }
   ],
   "source": [
    "class Employee:\n",
    "    def __init__(self, role, department, salary):\n",
    "        self.role = role\n",
    "        self.department = department\n",
    "        self.salary = salary\n",
    "        \n",
    "    def showDetails(self):\n",
    "        print(\"role\", self.role)\n",
    "        print(\"department\", self.department)\n",
    "        print(\"salary\", self.salary)\n",
    "\n",
    "\n",
    "\n",
    "class Engineer(Employee):\n",
    "    def __init__(self, name, age):\n",
    "        self.name = name\n",
    "        self.age = age\n",
    "        super().__init__(\"Engineer\", \"IT\", \"75000\")\n",
    "# object\n",
    "\n",
    "#Emp =Employee(\"manager\", \"HR\", \"1223\")\n",
    "#Emp.showDetails()\n",
    "\n",
    "E1 = Engineer(\"Elon Musk\", 40)\n",
    "E1.showDetails()\n",
    "    "
   ]
  },
  {
   "cell_type": "markdown",
   "metadata": {},
   "source": [
    "Practice Question\n",
    "\n",
    "Create a class called Order which stores item & its price.\n",
    "\n",
    "Use Dunder function ..gt..() to convey that:\n",
    "order1> order2 if price of order 1> price of order 2"
   ]
  },
  {
   "cell_type": "code",
   "execution_count": 72,
   "metadata": {},
   "outputs": [
    {
     "name": "stdout",
     "output_type": "stream",
     "text": [
      "True\n"
     ]
    }
   ],
   "source": [
    "class Order:\n",
    "    def __init__(self, item, price):\n",
    "        self.item = item\n",
    "        self.price = price\n",
    "    \n",
    "    def __gt__(self, odr2):\n",
    "        return self.price > odr2.price\n",
    "\n",
    "odr1 = Order(\"chips\", 20)\n",
    "odr2 = Order(\"tea\", 15)\n",
    "\n",
    "print(odr1>odr2)"
   ]
  }
 ],
 "metadata": {
  "kernelspec": {
   "display_name": "Python 3",
   "language": "python",
   "name": "python3"
  },
  "language_info": {
   "codemirror_mode": {
    "name": "ipython",
    "version": 3
   },
   "file_extension": ".py",
   "mimetype": "text/x-python",
   "name": "python",
   "nbconvert_exporter": "python",
   "pygments_lexer": "ipython3",
   "version": "3.13.1"
  }
 },
 "nbformat": 4,
 "nbformat_minor": 2
}
